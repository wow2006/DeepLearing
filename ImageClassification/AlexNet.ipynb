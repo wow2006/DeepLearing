{
 "cells": [
  {
   "cell_type": "code",
   "execution_count": null,
   "metadata": {
    "collapsed": true
   },
   "outputs": [],
   "source": [
    "from tflearn.data_preprocessing import ImagePreprocessing\n",
    "from tflearn.data_augmentation import ImageAugmentation\n",
    "\n",
    "# Real-time data preprocessing\n",
    "img_prep = ImagePreprocessing()\n",
    "img_prep.add_featurewise_zero_center()\n",
    "img_prep.add_featurewise_stdnorm()\n",
    "\n",
    "# Real-time data augmentation\n",
    "img_aug = ImageAugmentation()\n",
    "img_aug.add_random_flip_leftright()\n",
    "img_aug.add_random_rotation(max_angle=25.)"
   ]
  },
  {
   "cell_type": "code",
   "execution_count": null,
   "metadata": {
    "collapsed": true
   },
   "outputs": [],
   "source": [
    "from tflearn.layers.core import input_data\n",
    "network = input_data(shape=[None, 224, 224, 3],\n",
    "                     data_preprocessing=img_prep,\n",
    "                     data_augmentation=img_aug)"
   ]
  },
  {
   "cell_type": "code",
   "execution_count": null,
   "metadata": {
    "collapsed": true
   },
   "outputs": [],
   "source": [
    "from json import load\n",
    "with open(\"AlexNet.json\", \"r\") as inputFile:\n",
    "    layers = load(inputFile)\n",
    "networkRoot = layers['AlexNet']"
   ]
  },
  {
   "cell_type": "code",
   "execution_count": null,
   "metadata": {
    "collapsed": true
   },
   "outputs": [],
   "source": [
    "from Utility import createArchitecture\n",
    "network = createArchitecture(networkRoot, network)"
   ]
  },
  {
   "cell_type": "code",
   "execution_count": null,
   "metadata": {
    "collapsed": true
   },
   "outputs": [],
   "source": [
    "import tflearn\n",
    "from tflearn.layers.core import input_data, dropout, fully_connected\n",
    "from tflearn.layers.conv import conv_2d, max_pool_2d\n",
    "from tflearn.layers.normalization import local_response_normalization\n",
    "from tflearn.layers.estimator import regression"
   ]
  },
  {
   "cell_type": "code",
   "execution_count": null,
   "metadata": {
    "collapsed": true
   },
   "outputs": [],
   "source": [
    "# import tflearn.datasets.cifar10 as cifar10\n",
    "# X_, Y =  cifar10.load_data('Data/cifar10', one_hot=True)"
   ]
  },
  {
   "cell_type": "code",
   "execution_count": null,
   "metadata": {
    "collapsed": true
   },
   "outputs": [],
   "source": [
    "import numpy as np\n",
    "from scipy.misc import imresize\n",
    "import tflearn.datasets.oxflower17 as oxflower17\n",
    "\n",
    "# Bug at resize_pics don't work\n",
    "X_, Y = oxflower17.load_data(dirname='Data/17flowers', one_hot=True,\n",
    "                            resize_pics=(224, 224))\n",
    "\n",
    "X = np.empty((X_.shape[0], 224, 224, 3), dtype=np.float32)\n",
    "for i, image in enumerate(X_):\n",
    "    # return is RGB 224x224 and float64 [0-255]\n",
    "    temp = imresize(image, (224, 224), mode='RGB').astype(np.float32)\n",
    "    X[i] = temp / np.max(temp)\n",
    "X_ = None"
   ]
  },
  {
   "cell_type": "markdown",
   "metadata": {},
   "source": [
    "![alt test](Data/AlexNetArchitecture.jpg \"AlexNet Architecture\")\n",
    "![alt text](Data/AlexNetGraph.png \"AlexNet Graph\")"
   ]
  },
  {
   "cell_type": "code",
   "execution_count": null,
   "metadata": {
    "collapsed": true
   },
   "outputs": [],
   "source": [
    "network = fully_connected(network, 17, activation='softmax')\n",
    "\n",
    "network = regression(network, optimizer='momentum',\n",
    "                     loss='categorical_crossentropy',\n",
    "                     learning_rate=0.001)"
   ]
  },
  {
   "cell_type": "code",
   "execution_count": null,
   "metadata": {
    "collapsed": true
   },
   "outputs": [],
   "source": [
    "import os, shutil\n",
    "if os.path.exists('/tmp/tflearn_logs/alexnet_oxflowers17/'):\n",
    "    shutil.rmtree('/tmp/tflearn_logs/alexnet_oxflowers17/')\n",
    "# Training\n",
    "model = tflearn.DNN(network, checkpoint_path='Data/checkpoint/model_alexnet', max_checkpoints=1,\n",
    "                    tensorboard_verbose=2)\n",
    "model.fit(X, Y, n_epoch=1000, validation_set=0.1, shuffle=True, show_metric=True, batch_size=64,\n",
    "          snapshot_step=200, snapshot_epoch=False, run_id='alexnet_oxflowers17')"
   ]
  }
 ],
 "metadata": {
  "kernelspec": {
   "display_name": "Python 3",
   "language": "python",
   "name": "python3"
  },
  "language_info": {
   "codemirror_mode": {
    "name": "ipython",
    "version": 3
   },
   "file_extension": ".py",
   "mimetype": "text/x-python",
   "name": "python",
   "nbconvert_exporter": "python",
   "pygments_lexer": "ipython3",
   "version": "3.5.2"
  }
 },
 "nbformat": 4,
 "nbformat_minor": 2
}
